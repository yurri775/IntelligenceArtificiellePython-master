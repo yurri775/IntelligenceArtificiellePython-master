{
 "cells": [
  {
   "cell_type": "markdown",
   "metadata": {
    "colab_type": "text",
    "id": "view-in-github"
   },
   "source": [
    "<a href=\"https://colab.research.google.com/github/EmmanuelADAM/IntelligenceArtificiellePython/blob/master/TestOUX.ipynb\" target=\"_parent\"><img src=\"https://colab.research.google.com/assets/colab-badge.svg\" alt=\"Open In Colab\"/></a>"
   ]
  },
  {
   "cell_type": "markdown",
   "metadata": {
    "colab_type": "text",
    "id": "3qF8xmpAdACr"
   },
   "source": [
    "# Exemple d'apprentissage du OUX (XOR) avec TensorFlow\n",
    "\n",
    "Apprendre le ET pour réseau de neurone demande l'intervention d'une entrée supplémentaire appelée le BIAS\n",
    "([voir le ET par réseaux de neurones](https://github.com/EmmanuelADAM/IntelligenceArtificiellePython/blob/master/TestET.ipynb))\n",
    "\n",
    "Le tableau du OU Exclusif sans et avec Bias est :\n",
    "\n",
    "|a|b|a oux b|le tableau avec bias -> |bias|a|b|a oux b|\n",
    "|:-:|:-:|:-:|:-:|:-:|:-:|:-:|:-:|\n",
    "|0|0|0| |1|0|0|0|\n",
    "|0|1|1| |1|0|1|1|\n",
    "|1|0|1| |1|1|0|1|\n",
    "|1|1|0| |1|1|1|0|\n",
    "\n",
    "\n",
    "*Théoriquement, en 1 couche, l'apprentissage du OUX par réseau de neurones est alors impossible.*\n",
    "\n",
    "En effet, la couche n'est consituée que de 1 neurone (1 sortie), ses entrées sont les valeurs `bias`, `a` et `b`.\n",
    "`wbias`, `wa` et `wb` étant les poids affectés à ces valeurs, il faut vérifier : \n",
    " - `f(bias)` tend vers 0\n",
    " - `f(bias + wb)` tend vers 1\n",
    " - `f(bias + wa)` tend vers 1\n",
    " - `f(bias + wa + wb)` tend vers 0  --> **contradiction !**\n",
    " \n",
    "\n",
    "*Vérifions le...*\n",
    "\n"
   ]
  },
  {
   "cell_type": "markdown",
   "metadata": {
    "colab_type": "text",
    "id": "JZpJB9iOdRS3"
   },
   "source": [
    "---\n",
    "**Importer les librairires**"
   ]
  },
  {
   "cell_type": "code",
   "execution_count": 1,
   "metadata": {
    "colab": {},
    "colab_type": "code",
    "id": "odDg9S7xdFsv"
   },
   "outputs": [],
   "source": [
    "#keras : Python Deep Learning library\n",
    "import tensorflow.keras as keras\n",
    "#prevision d'utiliser un réseau en couches séquentielles\n",
    "from tensorflow.keras.models import Sequential\n",
    "#prevision d'utiliser des couches totalement connectées la précédente\n",
    "from tensorflow.keras.layers import Dense\n",
    "#utilisation de la classique librairie pour tableaux, ...\n",
    "import numpy as np"
   ]
  },
  {
   "cell_type": "markdown",
   "metadata": {
    "colab_type": "text",
    "id": "XN8WXXdTdXx0"
   },
   "source": [
    "### Définir les entrées et sorties attendues\n",
    "- a OUX b est vraie seulement si un seule des deux variable a ou b est vraie\n"
   ]
  },
  {
   "cell_type": "code",
   "execution_count": 2,
   "metadata": {
    "colab": {},
    "colab_type": "code",
    "id": "A1mjGN2Bb5Ki"
   },
   "outputs": [],
   "source": [
    "# a et b sont les seules entrées\n",
    "entrees = np.array([[0,0],[0,1],[1,0],[1,1]], float)\n",
    "\n",
    "# une seule sortie\n",
    "sorties = np.array([[0],[1],[1],[0]], float)"
   ]
  },
  {
   "cell_type": "markdown",
   "metadata": {
    "colab_type": "text",
    "id": "SC-1MnShdwe0"
   },
   "source": [
    "---\n",
    "## 1. test du OUX - SANS COUCHE CACHEE\n",
    "\n",
    "\n",
    "### 1.1. Choisir le modèle de réseau\n",
    "- ici les couches sont séquentielles"
   ]
  },
  {
   "cell_type": "code",
   "execution_count": 3,
   "metadata": {
    "colab": {},
    "colab_type": "code",
    "id": "WbST4EmqcCdJ"
   },
   "outputs": [],
   "source": [
    "model = Sequential()"
   ]
  },
  {
   "cell_type": "markdown",
   "metadata": {},
   "source": [
    "### 1.2. Définir l'architecture du réseau\n",
    "- ici une seule couche constituée de 1 neurone en sortie, \n",
    "- de 3 neurones en entrée (1 pour chaque valeur, +1 pour le Bias), \n",
    "- utilisation de la sigmoïde comme fonction d'activation"
   ]
  },
  {
   "cell_type": "code",
   "execution_count": 4,
   "metadata": {},
   "outputs": [],
   "source": [
    "model.add(Dense(1, input_dim=2, use_bias=True, activation='sigmoid'))"
   ]
  },
  {
   "cell_type": "markdown",
   "metadata": {},
   "source": [
    "### 1.3. Compiler le  réseau\n",
    "Ici, on précise que \n",
    "  - l'algo de correction d'erreur est 'Adamax', \n",
    "  - l'erreur calculée est la moyenne des valeurs absolues des erreurs commises"
   ]
  },
  {
   "cell_type": "code",
   "execution_count": 5,
   "metadata": {},
   "outputs": [],
   "source": [
    "model.compile(optimizer='adamax', loss='MSE')"
   ]
  },
  {
   "cell_type": "markdown",
   "metadata": {},
   "source": [
    "### 1.4. Entraîner le réseau \n",
    "- et on lance 10000 cycles d'apprentissage"
   ]
  },
  {
   "cell_type": "code",
   "execution_count": 6,
   "metadata": {},
   "outputs": [
    {
     "data": {
      "text/plain": [
       "<tensorflow.python.keras.callbacks.History at 0x63fd10250>"
      ]
     },
     "execution_count": 6,
     "metadata": {},
     "output_type": "execute_result"
    }
   ],
   "source": [
    "model.fit(entrees, sorties, verbose=0, epochs=1000)"
   ]
  },
  {
   "cell_type": "markdown",
   "metadata": {},
   "source": [
    "### 1.5. Vérifier le réseau\n",
    "Etape facultative, en général ***on teste le réseau sur d'autres exemples***. \n",
    "- Ici, on n'en a pas. Alors on lui demande de calculer la sortie pour chaque exemple de l'ensemble d'entraînement"
   ]
  },
  {
   "cell_type": "code",
   "execution_count": 7,
   "metadata": {},
   "outputs": [],
   "source": [
    "predictions = model.predict(entrees)"
   ]
  },
  {
   "cell_type": "markdown",
   "metadata": {},
   "source": [
    "### 1.6. Affichage des résultats\n",
    "Ici pas de nécessité de graphique d'évolution de l'erreur.\n",
    "On affiche les entrées, la sortie attendue, la sortie calculée.. et l'erreur.."
   ]
  },
  {
   "cell_type": "code",
   "execution_count": 8,
   "metadata": {},
   "outputs": [
    {
     "name": "stdout",
     "output_type": "stream",
     "text": [
      "verification\n",
      "0.0  -  0.0  attendu  [0.]  trouvé  [0.42475054]\n",
      "0.0  -  1.0  attendu  [1.]  trouvé  [0.43814373]\n",
      "1.0  -  0.0  attendu  [1.]  trouvé  [0.5446196]\n",
      "1.0  -  1.0  attendu  [0.]  trouvé  [0.5581254]\n",
      "perte= 0.25374269485473633\n"
     ]
    }
   ],
   "source": [
    "def verification(bias=False):\n",
    "    print(\"verification\")\n",
    "    for i in range(0, len(entrees)):\n",
    "        print(entrees[i][0], \" - \", entrees[i][1], \" attendu \", sorties[i], \" trouvé \",  predictions[i])\n",
    "\n",
    "verification()\n",
    "\n",
    "loss = model.evaluate(entrees, sorties,verbose=0)\n",
    "print(\"perte=\",loss)"
   ]
  },
  {
   "cell_type": "markdown",
   "metadata": {},
   "source": [
    "**Un beau \"plantage\"**, comme cela était attendu\n",
    "\n",
    "Ajoutons maintenant une couche cachée.."
   ]
  },
  {
   "cell_type": "markdown",
   "metadata": {},
   "source": [
    "---\n",
    "## 2. test du OUX - AVEC COUCHE CACHEE\n",
    "\n",
    "\n",
    "### 2.1. Choisir le modèle de réseau\n",
    "- ici les couches sont séquentielles"
   ]
  },
  {
   "cell_type": "code",
   "execution_count": 9,
   "metadata": {},
   "outputs": [],
   "source": [
    "model = Sequential()"
   ]
  },
  {
   "cell_type": "markdown",
   "metadata": {
    "colab_type": "text",
    "id": "Jo5Ej8kkd8nh"
   },
   "source": [
    "### 2.2. Définir l'architecture du réseau*** \n",
    "- une première couche composée de \n",
    "  - 3 neurones en entrée : 2 neurones pour les 2 variables, plus le neurone BIAS\n",
    "  - **et maintenant 4 neurones en sortie !!**\n",
    "- une **couche intermédiaire**\n",
    "  - *implicitement de 4 neurones en entrée* (ceux de la couche précédente) et \n",
    "  - de 1 neurone en sortie (a OUX b)\n"
   ]
  },
  {
   "cell_type": "code",
   "execution_count": 10,
   "metadata": {
    "colab": {},
    "colab_type": "code",
    "id": "Vr6dcOJicGYM"
   },
   "outputs": [],
   "source": [
    "#une premiere couche constituée de 2 neurones en sortie, de 3 neurones en entrée (2 pour les valeurs + 1 Bias), fonction d'activation = tangente hyperbolique\n",
    "model.add(Dense(4, input_dim=2, use_bias=True, activation='tanh'))\n",
    "\n",
    "#une seconde couche constituée de 1 neurone en sortie (et implicitement de 2 neurones en entrée), fonction d'activation = tangente hyperbolique\n",
    "model.add(Dense(1, activation='tanh'))\n"
   ]
  },
  {
   "cell_type": "markdown",
   "metadata": {
    "colab_type": "text",
    "id": "8L4LxSBWeaF1"
   },
   "source": [
    "### 2.3. Compiler le  réseau\n",
    "- ici, on précise que l'algo de correction d'erreur est *'adam'*, et que l'erreur calculée est la moyenne des valeurs absolues des erreurs commises"
   ]
  },
  {
   "cell_type": "code",
   "execution_count": 11,
   "metadata": {
    "colab": {},
    "colab_type": "code",
    "id": "HlnG97g7cQKW"
   },
   "outputs": [],
   "source": [
    "model.compile(optimizer='adam', loss='MSE')"
   ]
  },
  {
   "cell_type": "markdown",
   "metadata": {
    "colab_type": "text",
    "id": "rZ4IQ-bIdtN1"
   },
   "source": [
    "### 2.4. Entraîner le réseau \n",
    "- ici on ne le fait pas 'parler' (verbose=0), et on \"ne lance plus que\" 2000 cycles d'apprentissage"
   ]
  },
  {
   "cell_type": "code",
   "execution_count": 12,
   "metadata": {
    "colab": {
     "base_uri": "https://localhost:8080/",
     "height": 148
    },
    "colab_type": "code",
    "id": "ddTla-J_cfz8",
    "outputId": "0fd3cade-cd59-41db-c5f6-0ea22e48cac0"
   },
   "outputs": [
    {
     "data": {
      "text/plain": [
       "<tensorflow.python.keras.callbacks.History at 0x6404334d0>"
      ]
     },
     "execution_count": 12,
     "metadata": {},
     "output_type": "execute_result"
    }
   ],
   "source": [
    "model.fit(entrees, sorties, verbose=0, epochs=2000)"
   ]
  },
  {
   "cell_type": "markdown",
   "metadata": {
    "colab_type": "text",
    "id": "I0zBYIALlDYp"
   },
   "source": [
    "### 2.5. Vérifier le réseau \n",
    "- Etape nécessaire; en général on le teste sur d'autres exemples. Ici, on lui demande de calculer la sortie pour chaque exemple de l'ensemble d'entraînement"
   ]
  },
  {
   "cell_type": "code",
   "execution_count": 13,
   "metadata": {
    "colab": {},
    "colab_type": "code",
    "id": "Z89vptAXcuDM"
   },
   "outputs": [],
   "source": [
    "predictions = model.predict(entrees)"
   ]
  },
  {
   "cell_type": "markdown",
   "metadata": {
    "colab_type": "text",
    "id": "N38spzckmMMJ"
   },
   "source": [
    "### 2.7. Affichage des résultats\n",
    "- pas de courbe d'erreurs ici, on se contente d'afficher les entrées, la sortie attendue et la sortie calculées; et on affiche l'erreur"
   ]
  },
  {
   "cell_type": "code",
   "execution_count": 14,
   "metadata": {
    "colab": {
     "base_uri": "https://localhost:8080/",
     "height": 102
    },
    "colab_type": "code",
    "id": "E7Lluiifcx0b",
    "outputId": "b431e35d-e4ca-4f0c-c2b4-d12392644472"
   },
   "outputs": [
    {
     "name": "stdout",
     "output_type": "stream",
     "text": [
      "verification\n",
      "0.0  -  0.0  attendu  [0.]  trouvé  [0.01189649]\n",
      "0.0  -  1.0  attendu  [1.]  trouvé  [0.91050607]\n",
      "1.0  -  0.0  attendu  [1.]  trouvé  [0.86376584]\n",
      "1.0  -  1.0  attendu  [0.]  trouvé  [0.02558656]\n",
      "perte= 0.006841277703642845\n"
     ]
    }
   ],
   "source": [
    "verification()\n",
    "\n",
    "loss = model.evaluate(entrees, sorties,verbose=0)\n",
    "print(\"perte=\",loss)"
   ]
  },
  {
   "cell_type": "markdown",
   "metadata": {
    "colab": {},
    "colab_type": "code",
    "id": "7mo-ZRMpGgBk"
   },
   "source": [
    "**Importance de la couche intermédiaire validée !!!**\n",
    "---"
   ]
  }
 ],
 "metadata": {
  "colab": {
   "collapsed_sections": [],
   "name": "TestOUX.ipynb",
   "provenance": [],
   "version": "0.3.2"
  },
  "kernelspec": {
   "display_name": "Python 3",
   "language": "python",
   "name": "python3"
  },
  "language_info": {
   "codemirror_mode": {
    "name": "ipython",
    "version": 3
   },
   "file_extension": ".py",
   "mimetype": "text/x-python",
   "name": "python",
   "nbconvert_exporter": "python",
   "pygments_lexer": "ipython3",
   "version": "3.7.6"
  }
 },
 "nbformat": 4,
 "nbformat_minor": 4
}

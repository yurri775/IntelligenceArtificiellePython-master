{
 "cells": [
  {
   "cell_type": "markdown",
   "metadata": {
    "colab_type": "text",
    "id": "view-in-github"
   },
   "source": [
    "<a href=\"https://colab.research.google.com/github/EmmanuelADAM/IntelligenceArtificiellePython/blob/master/TestET.ipynb\" target=\"_parent\"><img src=\"https://colab.research.google.com/assets/colab-badge.svg\" alt=\"Open In Colab\"/></a>"
   ]
  },
  {
   "cell_type": "markdown",
   "metadata": {
    "colab_type": "text",
    "id": "3qF8xmpAdACr"
   },
   "source": [
    "# Exemple d'apprentissage du ET avec TensorFlow\n",
    "## Illustration de l'importance du Bias\n",
    "\n",
    "|a|b|a et b|\n",
    "|:-:|:-:|:-:|\n",
    "|0|0|0|\n",
    "|0|1|0|\n",
    "|1|0|0|\n",
    "|1|1|1|\n",
    "\n",
    "\n",
    "*Théoriquement, en 1 couche, l'apprentissage du ET par réseau de neurones n'est pas possible.*\n",
    "\n",
    "En effet, la couche n'est consituée que de 1 neurone (1 sortie), ses entrées sont les valeurs `a` et `b`.\n",
    "`wa` et `wb` étant les poids affectés à ces valeurs, il faut vérifier : \n",
    " - `f(0)` tend vers 0 --> ok\n",
    " - `f(wb)` tend vers 0\n",
    " - `f(wa)` tend vers 0\n",
    " - `f(wa + wb)` tend vers 1 --> conflit avec les lignes précédentes\n",
    " \n",
    "*Vérifions le...*\n"
   ]
  },
  {
   "cell_type": "markdown",
   "metadata": {
    "colab_type": "text",
    "id": "JZpJB9iOdRS3"
   },
   "source": [
    "---\n",
    "**Importer les librairies**"
   ]
  },
  {
   "cell_type": "code",
   "execution_count": 1,
   "metadata": {
    "colab": {},
    "colab_type": "code",
    "id": "odDg9S7xdFsv"
   },
   "outputs": [],
   "source": [
    "#keras : Python Deep Learning library\n",
    "import tensorflow.keras as keras\n",
    "#prevision d'utiliser un réseau en couches séquentielles\n",
    "from tensorflow.keras.models import Sequential\n",
    "#prevision d'utiliser des couches totalement connectées la précédente\n",
    "from tensorflow.keras.layers import Dense\n",
    "#utilisation de la classique librairie pour tableaux, ...\n",
    "import numpy as np"
   ]
  },
  {
   "cell_type": "markdown",
   "metadata": {
    "colab_type": "text",
    "id": "XN8WXXdTdXx0"
   },
   "source": [
    "---\n",
    "\n",
    "## Définir les entrées et sorties attendues\n"
   ]
  },
  {
   "cell_type": "code",
   "execution_count": 26,
   "metadata": {
    "colab": {},
    "colab_type": "code",
    "id": "A1mjGN2Bb5Ki"
   },
   "outputs": [],
   "source": [
    "# a et b sont les seules entrées\n",
    "entrees = np.array([[0,0],[0,1],[1,0],[1,1]], float)\n",
    "\n",
    "# une seule sortie\n",
    "sorties = np.array([[0],[0],[0],[1]], float)"
   ]
  },
  {
   "cell_type": "markdown",
   "metadata": {
    "colab_type": "text",
    "id": "SC-1MnShdwe0"
   },
   "source": [
    "---\n",
    "## 1. Version sans BIAS"
   ]
  },
  {
   "cell_type": "markdown",
   "metadata": {},
   "source": [
    "### 1.1. Choisir le modèle de réseau \n",
    "***ici les couches sont séquentielles***"
   ]
  },
  {
   "cell_type": "code",
   "execution_count": 27,
   "metadata": {
    "colab": {},
    "colab_type": "code",
    "id": "WbST4EmqcCdJ"
   },
   "outputs": [],
   "source": [
    "model = Sequential()"
   ]
  },
  {
   "cell_type": "markdown",
   "metadata": {
    "colab_type": "text",
    "id": "Jo5Ej8kkd8nh"
   },
   "source": [
    "### 1.2. Définir l'architecture du réseau\n",
    "- ici une seule couche constituée de 1 neurone en sortie, \n",
    "- de 2 neurones en entrée (pour chaque valeur), \n",
    "- utilisation de la sigmoïde comme fonction d'activation"
   ]
  },
  {
   "cell_type": "code",
   "execution_count": 28,
   "metadata": {
    "colab": {},
    "colab_type": "code",
    "id": "Vr6dcOJicGYM"
   },
   "outputs": [],
   "source": [
    "model.add(Dense(1, input_dim=2, use_bias=False, activation='sigmoid'))"
   ]
  },
  {
   "cell_type": "markdown",
   "metadata": {
    "colab_type": "text",
    "id": "8L4LxSBWeaF1"
   },
   "source": [
    "---\n",
    "\n",
    "### 1.3. Compiler le  réseau\n",
    "Ici, on précise que \n",
    "  - l'algo de correction d'erreur est 'Adamax', \n",
    "  - l'erreur calculée est la moyenne des valeurs absolues des erreurs commises"
   ]
  },
  {
   "cell_type": "code",
   "execution_count": 29,
   "metadata": {
    "colab": {},
    "colab_type": "code",
    "id": "HlnG97g7cQKW"
   },
   "outputs": [],
   "source": [
    "model.compile(optimizer='adadelta', loss='MSE')"
   ]
  },
  {
   "cell_type": "markdown",
   "metadata": {
    "colab_type": "text",
    "id": "rZ4IQ-bIdtN1"
   },
   "source": [
    "---\n",
    "\n",
    "### 1.4. Entraîner le réseau \n",
    "- ici on ne le fait pas parler (verbose = 0), \n",
    "- et on lance 10000 cycles d'apprentissage"
   ]
  },
  {
   "cell_type": "code",
   "execution_count": null,
   "metadata": {
    "colab": {
     "base_uri": "https://localhost:8080/",
     "height": 34
    },
    "colab_type": "code",
    "id": "ddTla-J_cfz8",
    "outputId": "3f251574-0acf-4b59-e480-3e736b427625"
   },
   "outputs": [],
   "source": [
    "model.fit(entrees, sorties, verbose=0, epochs=1000)"
   ]
  },
  {
   "cell_type": "markdown",
   "metadata": {
    "colab_type": "text",
    "id": "I0zBYIALlDYp"
   },
   "source": [
    "---\n",
    "\n",
    "### 1.5. Vérifier le réseau\n",
    "Etape facultative, en général ***on teste le réseau sur d'autres exemples***. \n",
    "- Ici, on n'en a pas. Alors on lui demande de calculer la sortie pour chaque exemple de l'ensemble d'entraînement"
   ]
  },
  {
   "cell_type": "code",
   "execution_count": 11,
   "metadata": {
    "colab": {},
    "colab_type": "code",
    "id": "Z89vptAXcuDM"
   },
   "outputs": [
    {
     "name": "stdout",
     "output_type": "stream",
     "text": [
      "\u001b[1m1/1\u001b[0m \u001b[32m━━━━━━━━━━━━━━━━━━━━\u001b[0m\u001b[37m\u001b[0m \u001b[1m0s\u001b[0m 81ms/step\n"
     ]
    }
   ],
   "source": [
    "predictions = model.predict(entrees)"
   ]
  },
  {
   "cell_type": "markdown",
   "metadata": {
    "colab_type": "text",
    "id": "N38spzckmMMJ"
   },
   "source": [
    "---\n",
    "### 1.6. Affichage des résultats\n",
    "Ici pas de nécessité de graphique d'évolution de l'erreur.\n",
    "On affiche les entrées, la sortie attendue, la sortie calculée ainsi que les poids appliquées aux entrées et au signal bias.."
   ]
  },
  {
   "cell_type": "code",
   "execution_count": 12,
   "metadata": {
    "colab": {
     "base_uri": "https://localhost:8080/",
     "height": 153
    },
    "colab_type": "code",
    "id": "E7Lluiifcx0b",
    "outputId": "a68a8d3f-24f5-4f70-95fc-a215b158ee09"
   },
   "outputs": [
    {
     "name": "stdout",
     "output_type": "stream",
     "text": [
      "verification\n",
      "0.0  -  0.0  attendu  [0.]  trouvé  [0.253566]\n",
      "0.0  -  1.0  attendu  [0.]  trouvé  [0.44761425]\n",
      "1.0  -  0.0  attendu  [0.]  trouvé  [0.25367334]\n",
      "1.0  -  1.0  attendu  [1.]  trouvé  [0.44766355]\n",
      "poids pour entree x = -0.0010506753\n",
      "poids pour entree y = -2.2264926\n"
     ]
    }
   ],
   "source": [
    "def verification(bias=False):\n",
    "    print(\"verification\")\n",
    "    for i in range(0, len(entrees)):\n",
    "        print(entrees[i][0], \" - \", entrees[i][1], \" attendu \", sorties[i], \" trouvé \",  predictions[i])\n",
    "\n",
    "    ws = model.get_weights()\n",
    "    print(\"poids pour entree x = \" + str(ws[0][0][0]))\n",
    "    print(\"poids pour entree y = \" + str(ws[0][1][0]))\n",
    "    if(bias):print(\"poids pour bias = \" + str(ws[1][0]))\n",
    "\n",
    "verification()"
   ]
  },
  {
   "cell_type": "code",
   "execution_count": 13,
   "metadata": {},
   "outputs": [
    {
     "name": "stdout",
     "output_type": "stream",
     "text": [
      "perte= 0.15851998329162598\n"
     ]
    }
   ],
   "source": [
    "loss = model.evaluate(entrees, sorties,verbose=0)\n",
    "print(\"perte=\",loss)"
   ]
  },
  {
   "cell_type": "markdown",
   "metadata": {},
   "source": [
    "**Des erreurs importantes donc**, comme prévu...."
   ]
  },
  {
   "cell_type": "markdown",
   "metadata": {},
   "source": [
    "---\n",
    "## 2. Version AVEC BIAS\n",
    "\n",
    "Le tableau est alors\n",
    "\n",
    "|bias|a|b|a et b|\n",
    "|:-:|:-:|:-:|:-:|\n",
    "|1|0|0|0|\n",
    "|1|0|1|0|\n",
    "|1|1|0|0|\n",
    "|1|1|1|1|\n",
    "\n",
    "\n",
    "*Théoriquement, en 1 couche, l'apprentissage du ET par réseau de neurones est alors possible.*\n",
    "\n",
    "En effet, la couche n'est consituée que de 1 neurone (1 sortie), ses entrées sont les valeurs `bias`, `a` et `b`.\n",
    "`wbias`, `wa` et `wb` étant les poids affectés à ces valeurs, il faut vérifier : \n",
    " - `f(bias)` tend vers 0\n",
    " - `f(bias + wb)` tend vers 0\n",
    " - `f(bias + wa)` tend vers 0\n",
    " - `f(bias + wa + wb)` tend vers 1 \n",
    " \n",
    "*Vérifions le...*\n",
    "\n",
    "---\n",
    "\n",
    "### 2.1. Définir l'architecture du réseau\n",
    "- ici une seule couche constituée de 1 neurone en sortie, \n",
    "- de 3 neurones en entrée (2 contenant les valeurs + **un Bias** (émettant toujours le signal 1)), \n",
    "- utilisation de la sigmoide comme fonction d'activation"
   ]
  },
  {
   "cell_type": "code",
   "execution_count": 14,
   "metadata": {},
   "outputs": [],
   "source": [
    "model = Sequential()\n",
    "model.add(Dense(1, input_dim=2, use_bias=True, activation='sigmoid'))"
   ]
  },
  {
   "cell_type": "markdown",
   "metadata": {},
   "source": [
    "---\n",
    "\n",
    "### 2.2 Compiler et entrainer le  réseau \n",
    "Ici, on précise que \n",
    "  - l'algo de correction d'erreur est 'Adamax', \n",
    "  - l'erreur calculée est la moyenne des valeurs absolues des erreurs commises\n",
    "  - 10000 cycles d'apprentissage demandés"
   ]
  },
  {
   "cell_type": "code",
   "execution_count": 23,
   "metadata": {},
   "outputs": [
    {
     "data": {
      "text/plain": [
       "<keras.src.callbacks.history.History at 0x24cde9d6f90>"
      ]
     },
     "execution_count": 23,
     "metadata": {},
     "output_type": "execute_result"
    }
   ],
   "source": [
    "model.compile(optimizer='adamax', loss='MSE')\n",
    "\n",
    "model.fit(entrees, sorties, verbose=0, epochs=2000)"
   ]
  },
  {
   "cell_type": "markdown",
   "metadata": {},
   "source": [
    "---\n",
    "\n",
    "### 2.2. Vérifier le réseau\n",
    "Pas d'exemples de validation, on vérifie simplement la correspondance entre sortie attendue et la sortie réelle."
   ]
  },
  {
   "cell_type": "code",
   "execution_count": 24,
   "metadata": {},
   "outputs": [
    {
     "name": "stdout",
     "output_type": "stream",
     "text": [
      "\u001b[1m1/1\u001b[0m \u001b[32m━━━━━━━━━━━━━━━━━━━━\u001b[0m\u001b[37m\u001b[0m \u001b[1m0s\u001b[0m 50ms/step\n",
      "verification\n",
      "0.0  -  0.0  attendu  [0.]  trouvé  [0.04726153]\n",
      "0.0  -  1.0  attendu  [0.]  trouvé  [0.23426984]\n",
      "1.0  -  0.0  attendu  [0.]  trouvé  [0.2824871]\n",
      "1.0  -  1.0  attendu  [1.]  trouvé  [0.7082975]\n",
      "poids pour entree x = 2.0714858\n",
      "poids pour entree y = 1.8192875\n",
      "poids pour bias = -3.0036438\n"
     ]
    }
   ],
   "source": [
    "predictions = model.predict(entrees)\n",
    "verification(True)"
   ]
  },
  {
   "cell_type": "code",
   "execution_count": 25,
   "metadata": {},
   "outputs": [
    {
     "name": "stdout",
     "output_type": "stream",
     "text": [
      "perte= 0.05550133064389229\n"
     ]
    }
   ],
   "source": [
    "loss = model.evaluate(entrees, sorties, verbose=0)\n",
    "print(\"perte=\",loss)"
   ]
  },
  {
   "cell_type": "markdown",
   "metadata": {},
   "source": [
    "**Apprentissage quasi parfait !!!** \n",
    "- -> démonstration concrère de l'effet du `Bias` !!"
   ]
  },
  {
   "cell_type": "code",
   "execution_count": null,
   "metadata": {},
   "outputs": [],
   "source": []
  }
 ],
 "metadata": {
  "colab": {
   "collapsed_sections": [],
   "name": "TestET.ipynb",
   "provenance": [],
   "version": "0.3.2"
  },
  "kernelspec": {
   "display_name": "Python 3",
   "language": "python",
   "name": "python3"
  },
  "language_info": {
   "codemirror_mode": {
    "name": "ipython",
    "version": 3
   },
   "file_extension": ".py",
   "mimetype": "text/x-python",
   "name": "python",
   "nbconvert_exporter": "python",
   "pygments_lexer": "ipython3",
   "version": "3.12.3"
  }
 },
 "nbformat": 4,
 "nbformat_minor": 4
}
